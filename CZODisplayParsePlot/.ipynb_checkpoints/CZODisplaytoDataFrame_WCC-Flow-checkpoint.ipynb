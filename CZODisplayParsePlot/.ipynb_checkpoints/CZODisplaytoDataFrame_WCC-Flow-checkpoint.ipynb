{
 "metadata": {
  "name": ""
 },
 "nbformat": 3,
 "nbformat_minor": 0,
 "worksheets": [
  {
   "cells": [
    {
     "cell_type": "markdown",
     "metadata": {},
     "source": [
      "CZOData Example 1: Read and plot CZO_DisplayFile_v1 with Pandas.\n",
      "    Read from a \"CZO Display File v1\", convert to Pandas DataFrame and plot time series.\n",
      "    Writen by Anthony Aufdenkampe, Friday Dec. 13, 2013."
     ]
    },
    {
     "cell_type": "code",
     "collapsed": false,
     "input": [
      "# Import all required Python libraries and modules\n",
      "import pandas as pd\n",
      "import matplotlib.pyplot as plt"
     ],
     "language": "python",
     "metadata": {},
     "outputs": [],
     "prompt_number": 1
    },
    {
     "cell_type": "code",
     "collapsed": false,
     "input": [
      "# Create a list of file paths for the CZO Display Files (v1) to read\n",
      "#   Examples here available at http://czo.stroudcenter.org/data/ or http://criticalzone.org/christina/data/\n",
      "\n",
      "file_paths = ['/Users/anthony/AnthonyWork/PythonScripts/EnviroDataScripts/CZODisplayParsePlot/DemoData/CRB_WCC_STAGEFLOW_2009.csv', \n",
      "              '/Users/anthony/AnthonyWork/PythonScripts/EnviroDataScripts/CZODisplayParsePlot/DemoData/CRB_WCC_STAGEFLOW_2010.csv'\n",
      "              ]"
     ],
     "language": "python",
     "metadata": {},
     "outputs": [],
     "prompt_number": 2
    },
    {
     "cell_type": "code",
     "collapsed": false,
     "input": [
      "# A For loop that reads each file using the Pandas \"read_csv\" function, \n",
      "#   then appends the resulting DataFrame object to a list called \"data_frames\".\n",
      "\n",
      "data_frames = []\n",
      "for file_path in file_paths:\n",
      "    df = pd.read_csv(file_path, header=0, skipinitialspace=True, skiprows=[1], index_col=0, na_values=[-9999], parse_dates=True)\n",
      "    data_frames.append(df)"
     ],
     "language": "python",
     "metadata": {},
     "outputs": [],
     "prompt_number": 3
    },
    {
     "cell_type": "code",
     "collapsed": false,
     "input": [
      "# Concatenate all the DataFrames in the \"ata_frames\" list into a single DataFrame\n",
      "df = pd.concat(data_frames)"
     ],
     "language": "python",
     "metadata": {},
     "outputs": [],
     "prompt_number": 4
    },
    {
     "cell_type": "code",
     "collapsed": false,
     "input": [
      "df"
     ],
     "language": "python",
     "metadata": {},
     "outputs": [
      {
       "html": [
        "<pre>\n",
        "&lt;class 'pandas.core.frame.DataFrame'&gt;\n",
        "DatetimeIndex: 70058 entries, 2009-01-01 00:10:00 to 2010-12-31 23:45:00\n",
        "Data columns (total 4 columns):\n",
        "Gage Height (ft) from Continuous record    70058  non-null values\n",
        "Gage Height (ft)                           0  non-null values\n",
        "Discharge (cfs) from Continuous record     70058  non-null values\n",
        "Discharge (cfs)                            0  non-null values\n",
        "dtypes: float64(2), object(2)\n",
        "</pre>"
       ],
       "metadata": {},
       "output_type": "pyout",
       "prompt_number": 7,
       "text": [
        "<class 'pandas.core.frame.DataFrame'>\n",
        "DatetimeIndex: 70058 entries, 2009-01-01 00:10:00 to 2010-12-31 23:45:00\n",
        "Data columns (total 4 columns):\n",
        "Gage Height (ft) from Continuous record    70058  non-null values\n",
        "Gage Height (ft)                           0  non-null values\n",
        "Discharge (cfs) from Continuous record     70058  non-null values\n",
        "Discharge (cfs)                            0  non-null values\n",
        "dtypes: float64(2), object(2)"
       ]
      }
     ],
     "prompt_number": 7
    },
    {
     "cell_type": "code",
     "collapsed": false,
     "input": [
      "df.index"
     ],
     "language": "python",
     "metadata": {},
     "outputs": [
      {
       "metadata": {},
       "output_type": "pyout",
       "prompt_number": 8,
       "text": [
        "<class 'pandas.tseries.index.DatetimeIndex'>\n",
        "[2009-01-01 00:10:00, ..., 2010-12-31 23:45:00]\n",
        "Length: 70058, Freq: None, Timezone: None"
       ]
      }
     ],
     "prompt_number": 8
    },
    {
     "cell_type": "code",
     "collapsed": false,
     "input": [
      "df.index = df.index.tz_localize('EST')"
     ],
     "language": "python",
     "metadata": {},
     "outputs": [],
     "prompt_number": 9
    },
    {
     "cell_type": "code",
     "collapsed": false,
     "input": [
      "df.index"
     ],
     "language": "python",
     "metadata": {},
     "outputs": [
      {
       "metadata": {},
       "output_type": "pyout",
       "prompt_number": 10,
       "text": [
        "<class 'pandas.tseries.index.DatetimeIndex'>\n",
        "[2009-01-01 00:10:00, ..., 2010-12-31 23:45:00]\n",
        "Length: 70058, Freq: None, Timezone: EST"
       ]
      }
     ],
     "prompt_number": 10
    },
    {
     "cell_type": "code",
     "collapsed": false,
     "input": [
      "df.dtypes"
     ],
     "language": "python",
     "metadata": {},
     "outputs": [
      {
       "metadata": {},
       "output_type": "pyout",
       "prompt_number": 11,
       "text": [
        "Gage Height (ft) from Continuous record     object\n",
        "Gage Height (ft)                           float64\n",
        "Discharge (cfs) from Continuous record      object\n",
        "Discharge (cfs)                            float64\n",
        "dtype: object"
       ]
      }
     ],
     "prompt_number": 11
    },
    {
     "cell_type": "code",
     "collapsed": false,
     "input": [
      "df = df.convert_objects(convert_numeric='force')"
     ],
     "language": "python",
     "metadata": {},
     "outputs": [],
     "prompt_number": 12
    },
    {
     "cell_type": "code",
     "collapsed": false,
     "input": [
      "df.dtypes"
     ],
     "language": "python",
     "metadata": {},
     "outputs": [
      {
       "metadata": {},
       "output_type": "pyout",
       "prompt_number": 13,
       "text": [
        "Gage Height (ft) from Continuous record    float64\n",
        "Gage Height (ft)                           float64\n",
        "Discharge (cfs) from Continuous record     float64\n",
        "Discharge (cfs)                            float64\n",
        "dtype: object"
       ]
      }
     ],
     "prompt_number": 13
    },
    {
     "cell_type": "code",
     "collapsed": false,
     "input": [
      "df.head(n=5)"
     ],
     "language": "python",
     "metadata": {},
     "outputs": [
      {
       "html": [
        "<div style=\"max-height:1000px;max-width:1500px;overflow:auto;\">\n",
        "<table border=\"1\" class=\"dataframe\">\n",
        "  <thead>\n",
        "    <tr style=\"text-align: right;\">\n",
        "      <th></th>\n",
        "      <th>Gage Height (ft) from Continuous record</th>\n",
        "      <th>Gage Height (ft)</th>\n",
        "      <th>Discharge (cfs) from Continuous record</th>\n",
        "      <th>Discharge (cfs)</th>\n",
        "    </tr>\n",
        "    <tr>\n",
        "      <th>Date Time (EST)</th>\n",
        "      <th></th>\n",
        "      <th></th>\n",
        "      <th></th>\n",
        "      <th></th>\n",
        "    </tr>\n",
        "  </thead>\n",
        "  <tbody>\n",
        "    <tr>\n",
        "      <th>2009-01-01 00:10:00-05:00</th>\n",
        "      <td> 3.082</td>\n",
        "      <td>NaN</td>\n",
        "      <td> 2.15</td>\n",
        "      <td>NaN</td>\n",
        "    </tr>\n",
        "    <tr>\n",
        "      <th>2009-01-01 00:25:00-05:00</th>\n",
        "      <td> 3.083</td>\n",
        "      <td>NaN</td>\n",
        "      <td> 2.16</td>\n",
        "      <td>NaN</td>\n",
        "    </tr>\n",
        "    <tr>\n",
        "      <th>2009-01-01 00:40:00-05:00</th>\n",
        "      <td> 3.083</td>\n",
        "      <td>NaN</td>\n",
        "      <td> 2.16</td>\n",
        "      <td>NaN</td>\n",
        "    </tr>\n",
        "    <tr>\n",
        "      <th>2009-01-01 00:55:00-05:00</th>\n",
        "      <td> 3.082</td>\n",
        "      <td>NaN</td>\n",
        "      <td> 2.15</td>\n",
        "      <td>NaN</td>\n",
        "    </tr>\n",
        "    <tr>\n",
        "      <th>2009-01-01 01:10:00-05:00</th>\n",
        "      <td> 3.081</td>\n",
        "      <td>NaN</td>\n",
        "      <td> 2.13</td>\n",
        "      <td>NaN</td>\n",
        "    </tr>\n",
        "  </tbody>\n",
        "</table>\n",
        "</div>"
       ],
       "metadata": {},
       "output_type": "pyout",
       "prompt_number": 14,
       "text": [
        "                           Gage Height (ft) from Continuous record  \\\n",
        "Date Time (EST)                                                      \n",
        "2009-01-01 00:10:00-05:00                                    3.082   \n",
        "2009-01-01 00:25:00-05:00                                    3.083   \n",
        "2009-01-01 00:40:00-05:00                                    3.083   \n",
        "2009-01-01 00:55:00-05:00                                    3.082   \n",
        "2009-01-01 01:10:00-05:00                                    3.081   \n",
        "\n",
        "                           Gage Height (ft)  \\\n",
        "Date Time (EST)                               \n",
        "2009-01-01 00:10:00-05:00               NaN   \n",
        "2009-01-01 00:25:00-05:00               NaN   \n",
        "2009-01-01 00:40:00-05:00               NaN   \n",
        "2009-01-01 00:55:00-05:00               NaN   \n",
        "2009-01-01 01:10:00-05:00               NaN   \n",
        "\n",
        "                           Discharge (cfs) from Continuous record  \\\n",
        "Date Time (EST)                                                     \n",
        "2009-01-01 00:10:00-05:00                                    2.15   \n",
        "2009-01-01 00:25:00-05:00                                    2.16   \n",
        "2009-01-01 00:40:00-05:00                                    2.16   \n",
        "2009-01-01 00:55:00-05:00                                    2.15   \n",
        "2009-01-01 01:10:00-05:00                                    2.13   \n",
        "\n",
        "                           Discharge (cfs)  \n",
        "Date Time (EST)                             \n",
        "2009-01-01 00:10:00-05:00              NaN  \n",
        "2009-01-01 00:25:00-05:00              NaN  \n",
        "2009-01-01 00:40:00-05:00              NaN  \n",
        "2009-01-01 00:55:00-05:00              NaN  \n",
        "2009-01-01 01:10:00-05:00              NaN  "
       ]
      }
     ],
     "prompt_number": 14
    },
    {
     "cell_type": "code",
     "collapsed": false,
     "input": [
      "df.columns"
     ],
     "language": "python",
     "metadata": {},
     "outputs": [
      {
       "metadata": {},
       "output_type": "pyout",
       "prompt_number": 15,
       "text": [
        "Index([u'Gage Height (ft) from Continuous record', u'Gage Height (ft)', u'Discharge (cfs) from Continuous record', u'Discharge (cfs)'], dtype=object)"
       ]
      }
     ],
     "prompt_number": 15
    },
    {
     "cell_type": "code",
     "collapsed": false,
     "input": [
      "%matplotlib"
     ],
     "language": "python",
     "metadata": {},
     "outputs": [
      {
       "output_type": "stream",
       "stream": "stdout",
       "text": [
        "Using matplotlib backend: MacOSX\n"
       ]
      }
     ],
     "prompt_number": 16
    },
    {
     "cell_type": "code",
     "collapsed": false,
     "input": [
      "plt.figure(1)"
     ],
     "language": "python",
     "metadata": {},
     "outputs": [
      {
       "metadata": {},
       "output_type": "pyout",
       "prompt_number": 17,
       "text": [
        "<matplotlib.figure.Figure at 0x108bffdd0>"
       ]
      }
     ],
     "prompt_number": 17
    },
    {
     "cell_type": "code",
     "collapsed": false,
     "input": [
      "ax = df[u'Discharge (cfs) from Continuous record'].plot(title=file_path, style='b', logy=True, ylim=(1,1000), legend=True)\n",
      "ax.set_ylabel(u'Discharge (cfs) from Continuous record', color='b')"
     ],
     "language": "python",
     "metadata": {},
     "outputs": [
      {
       "metadata": {},
       "output_type": "pyout",
       "prompt_number": 18,
       "text": [
        "<matplotlib.text.Text at 0x108c22c50>"
       ]
      }
     ],
     "prompt_number": 18
    },
    {
     "cell_type": "code",
     "collapsed": false,
     "input": [
      "ax = df[u'Gage Height (ft) from Continuous record'].plot(secondary_y=True, style='g', legend=True)\n",
      "ax.right_ax.set_ylabel(u'Gage Height (ft) from Continuous record', color='g')"
     ],
     "language": "python",
     "metadata": {},
     "outputs": [
      {
       "metadata": {},
       "output_type": "pyout",
       "prompt_number": 19,
       "text": [
        "<matplotlib.text.Text at 0x10ff4e410>"
       ]
      }
     ],
     "prompt_number": 19
    },
    {
     "cell_type": "code",
     "collapsed": false,
     "input": [],
     "language": "python",
     "metadata": {},
     "outputs": []
    }
   ],
   "metadata": {}
  }
 ]
}